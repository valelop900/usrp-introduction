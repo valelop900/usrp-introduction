{
  "cells": [
    {
      "cell_type": "markdown",
      "metadata": {
        "id": "view-in-github",
        "colab_type": "text"
      },
      "source": [
        "<a href=\"https://colab.research.google.com/github/valelop900/usrp-introduction/blob/master/Valeria_Lesson_2_Operators_and_Conditional_Statements_Class_Notes.ipynb\" target=\"_parent\"><img src=\"https://colab.research.google.com/assets/colab-badge.svg\" alt=\"Open In Colab\"/></a>"
      ]
    },
    {
      "cell_type": "markdown",
      "id": "83898c59",
      "metadata": {
        "id": "83898c59"
      },
      "source": [
        "## Operators\n",
        "Operators are symbols that indicate how two operands should be manipulated. Operators and operants together form an expresion. Operators will always return a value\n",
        "\n",
        "### Arithmetic Operators\n",
        "- `+` add two operands\n",
        "- `-` substract two operands\n",
        "- `*` multiply two operands\n",
        "- `/` divide two operands\n",
        "- `%` modulus, return the remainder when the first number is divided from the second number.\n",
        "- `//` return integer division\n",
        "- `**` Exponentiation"
      ]
    },
    {
      "cell_type": "code",
      "execution_count": null,
      "id": "f8762c51",
      "metadata": {
        "id": "f8762c51",
        "outputId": "d75196df-1118-4585-9ddd-c2baf319b57b"
      },
      "outputs": [
        {
          "data": {
            "text/plain": [
              "9"
            ]
          },
          "execution_count": 1,
          "metadata": {},
          "output_type": "execute_result"
        }
      ],
      "source": [
        "x = 7\n",
        "y = 2\n",
        "x + y"
      ]
    },
    {
      "cell_type": "code",
      "execution_count": null,
      "id": "098414f0",
      "metadata": {
        "id": "098414f0",
        "outputId": "488b9fc8-dcb6-4ca7-d969-54b94ef83e53"
      },
      "outputs": [
        {
          "data": {
            "text/plain": [
              "5"
            ]
          },
          "execution_count": 2,
          "metadata": {},
          "output_type": "execute_result"
        }
      ],
      "source": [
        "x - y"
      ]
    },
    {
      "cell_type": "code",
      "execution_count": null,
      "id": "57c8f4c2",
      "metadata": {
        "id": "57c8f4c2",
        "outputId": "c10f2743-a0f1-49ed-8aae-44fd65b35504"
      },
      "outputs": [
        {
          "data": {
            "text/plain": [
              "14"
            ]
          },
          "execution_count": 3,
          "metadata": {},
          "output_type": "execute_result"
        }
      ],
      "source": [
        "x * y"
      ]
    },
    {
      "cell_type": "code",
      "execution_count": null,
      "id": "5ea98586",
      "metadata": {
        "id": "5ea98586",
        "outputId": "004db9e9-8ccb-422f-ff6d-49ac8f4935fb"
      },
      "outputs": [
        {
          "data": {
            "text/plain": [
              "3.5"
            ]
          },
          "execution_count": 4,
          "metadata": {},
          "output_type": "execute_result"
        }
      ],
      "source": [
        "x / y"
      ]
    },
    {
      "cell_type": "code",
      "execution_count": null,
      "id": "b3275999",
      "metadata": {
        "id": "b3275999",
        "outputId": "f54bb0e1-7f5b-4ab4-a019-e96bd197d3bd"
      },
      "outputs": [
        {
          "data": {
            "text/plain": [
              "1"
            ]
          },
          "execution_count": 5,
          "metadata": {},
          "output_type": "execute_result"
        }
      ],
      "source": [
        "x % y"
      ]
    },
    {
      "cell_type": "code",
      "execution_count": null,
      "id": "e569b719",
      "metadata": {
        "id": "e569b719",
        "outputId": "9e4d4cee-5795-4c47-d898-52082755dfec"
      },
      "outputs": [
        {
          "data": {
            "text/plain": [
              "3"
            ]
          },
          "execution_count": 6,
          "metadata": {},
          "output_type": "execute_result"
        }
      ],
      "source": [
        "x // y"
      ]
    },
    {
      "cell_type": "code",
      "execution_count": null,
      "id": "05090a67",
      "metadata": {
        "id": "05090a67",
        "outputId": "f107fd15-6428-4bac-a363-ee09c30ac98b"
      },
      "outputs": [
        {
          "data": {
            "text/plain": [
              "49"
            ]
          },
          "execution_count": 7,
          "metadata": {},
          "output_type": "execute_result"
        }
      ],
      "source": [
        "x ** y"
      ]
    },
    {
      "cell_type": "markdown",
      "id": "9d9a299f",
      "metadata": {
        "id": "9d9a299f"
      },
      "source": [
        "### Comparison Operators\n",
        "\n",
        "- `==`\tEqual\tx == y\n",
        "- `!=`\tNot equal\tx != y\n",
        "-  `>`\tGreater than\tx > y\n",
        "- `<`\tLess than\tx < y\n",
        "- `>=`\tGreater than or equal to\tx >= y\n",
        "- `<=`\tLess than or equal to\tx <= y"
      ]
    },
    {
      "cell_type": "code",
      "execution_count": null,
      "id": "24b65b8d",
      "metadata": {
        "id": "24b65b8d",
        "outputId": "1cff8401-e32a-402a-91d2-bbbb7c230425"
      },
      "outputs": [
        {
          "data": {
            "text/plain": [
              "False"
            ]
          },
          "execution_count": 1,
          "metadata": {},
          "output_type": "execute_result"
        }
      ],
      "source": [
        "x = 9\n",
        "y = 1\n",
        "x < y"
      ]
    },
    {
      "cell_type": "code",
      "execution_count": null,
      "id": "dfff367e",
      "metadata": {
        "id": "dfff367e",
        "outputId": "55935535-3b25-41b1-c133-3c8172f39f44"
      },
      "outputs": [
        {
          "data": {
            "text/plain": [
              "True"
            ]
          },
          "execution_count": 2,
          "metadata": {},
          "output_type": "execute_result"
        }
      ],
      "source": [
        "x > y"
      ]
    },
    {
      "cell_type": "code",
      "execution_count": null,
      "id": "ff31f54b",
      "metadata": {
        "id": "ff31f54b",
        "outputId": "678bd63f-51c6-4a46-8c4e-4e90928086df"
      },
      "outputs": [
        {
          "data": {
            "text/plain": [
              "False"
            ]
          },
          "execution_count": 4,
          "metadata": {},
          "output_type": "execute_result"
        }
      ],
      "source": [
        "x == y"
      ]
    },
    {
      "cell_type": "code",
      "execution_count": null,
      "id": "a61ae583",
      "metadata": {
        "id": "a61ae583",
        "outputId": "b3a06ca3-1747-40b9-fc75-290e637d2dfa"
      },
      "outputs": [
        {
          "data": {
            "text/plain": [
              "True"
            ]
          },
          "execution_count": 5,
          "metadata": {},
          "output_type": "execute_result"
        }
      ],
      "source": [
        "# Comparisson operators can be concatenated\n",
        "x = 9\n",
        "1 < x and x < 20"
      ]
    },
    {
      "cell_type": "markdown",
      "id": "4e75d36f",
      "metadata": {
        "id": "4e75d36f"
      },
      "source": [
        "### Logical operators\n",
        "- `and` \tReturns True if both statements are true\tx < 5 and  x < 10\n",
        "- `or`\tReturns True if one of the statements is true\tx < 5 or x < 4\n",
        "- `not`\tReverse the result, returns False if the result is true"
      ]
    },
    {
      "cell_type": "code",
      "execution_count": null,
      "id": "6021e7cd",
      "metadata": {
        "id": "6021e7cd",
        "outputId": "be1fba5c-cb0b-4ba1-a3d1-27152643be35"
      },
      "outputs": [
        {
          "data": {
            "text/plain": [
              "True"
            ]
          },
          "execution_count": 6,
          "metadata": {},
          "output_type": "execute_result"
        }
      ],
      "source": [
        "x = True\n",
        "y = False\n",
        "x or y"
      ]
    },
    {
      "cell_type": "code",
      "execution_count": null,
      "id": "29263f96",
      "metadata": {
        "id": "29263f96",
        "outputId": "3264b39f-08fe-4319-922a-099fddbea50c"
      },
      "outputs": [
        {
          "data": {
            "text/plain": [
              "False"
            ]
          },
          "execution_count": 9,
          "metadata": {},
          "output_type": "execute_result"
        }
      ],
      "source": [
        "x and y"
      ]
    },
    {
      "cell_type": "code",
      "execution_count": null,
      "id": "05abf3b1",
      "metadata": {
        "id": "05abf3b1",
        "outputId": "c0da1fb9-fd42-438e-f76b-78eaee965369"
      },
      "outputs": [
        {
          "data": {
            "text/plain": [
              "False"
            ]
          },
          "execution_count": 12,
          "metadata": {},
          "output_type": "execute_result"
        }
      ],
      "source": [
        "not x"
      ]
    },
    {
      "cell_type": "code",
      "execution_count": null,
      "id": "7b444ff8",
      "metadata": {
        "id": "7b444ff8",
        "outputId": "d429a98e-808f-46b3-849b-5835919cf064"
      },
      "outputs": [
        {
          "data": {
            "text/plain": [
              "True"
            ]
          },
          "execution_count": 15,
          "metadata": {},
          "output_type": "execute_result"
        }
      ],
      "source": [
        "not y"
      ]
    },
    {
      "cell_type": "markdown",
      "id": "54db517e",
      "metadata": {
        "id": "54db517e"
      },
      "source": [
        "### Membership Operators\n",
        "- `in` \tReturns True if a sequence with the specified value is present in the object\n",
        "- `not in`\tReturns True if a sequence with the specified value is not present in the object"
      ]
    },
    {
      "cell_type": "code",
      "execution_count": null,
      "id": "eb6d6464",
      "metadata": {
        "id": "eb6d6464",
        "outputId": "cd2467d3-ac92-4fc0-8da2-b776f4e022f9"
      },
      "outputs": [
        {
          "data": {
            "text/plain": [
              "True"
            ]
          },
          "execution_count": 18,
          "metadata": {},
          "output_type": "execute_result"
        }
      ],
      "source": [
        "a = [1, 2, 3, 4, 5]\n",
        "b = 4\n",
        "\n",
        "b in a"
      ]
    },
    {
      "cell_type": "code",
      "execution_count": null,
      "id": "23972309",
      "metadata": {
        "id": "23972309",
        "outputId": "2782f3e5-e6b4-4a7c-e882-67838bce6495"
      },
      "outputs": [
        {
          "data": {
            "text/plain": [
              "True"
            ]
          },
          "execution_count": 19,
          "metadata": {},
          "output_type": "execute_result"
        }
      ],
      "source": [
        "c = [2, 3, 4]\n",
        "\n",
        "c not in a"
      ]
    },
    {
      "cell_type": "code",
      "execution_count": null,
      "id": "15e8c91a",
      "metadata": {
        "id": "15e8c91a",
        "outputId": "b38fd434-8875-40df-be2d-852fea6361b7"
      },
      "outputs": [
        {
          "data": {
            "text/plain": [
              "[1, 2, 3, 4, 5, [2, 3, 4]]"
            ]
          },
          "execution_count": 20,
          "metadata": {},
          "output_type": "execute_result"
        }
      ],
      "source": [
        "a.append([2, 3, 4])\n",
        "a"
      ]
    },
    {
      "cell_type": "code",
      "execution_count": null,
      "id": "336bb226",
      "metadata": {
        "id": "336bb226",
        "outputId": "4e580e6c-8f15-4673-af44-3de52ecd42cc"
      },
      "outputs": [
        {
          "data": {
            "text/plain": [
              "True"
            ]
          },
          "execution_count": 21,
          "metadata": {},
          "output_type": "execute_result"
        }
      ],
      "source": [
        "c in a"
      ]
    },
    {
      "cell_type": "markdown",
      "id": "d7c98cc2",
      "metadata": {
        "id": "d7c98cc2"
      },
      "source": [
        "## Conditional statements\n",
        "Frequently, a program needs to skip over some statements, execute a series of statements repetitively, or choose between alternate sets of statements to execute.\n",
        "\n",
        "That is where control structures come in. A control structure directs the order of execution of the statements in a program\n",
        "\n",
        "### For Loops\n",
        "Will iterate over a list of values, executing an action until all elements are looped over"
      ]
    },
    {
      "cell_type": "code",
      "execution_count": null,
      "id": "6935c5ca",
      "metadata": {
        "id": "6935c5ca"
      },
      "outputs": [],
      "source": [
        "# Iterate over names in a list\n"
      ]
    },
    {
      "cell_type": "markdown",
      "id": "3b61579d",
      "metadata": {
        "id": "3b61579d"
      },
      "source": [
        "In the previous code, we use `name` as a variable to loop over the name list, we then print the name. Notice the `:` after the for statement, this is part of the `for` syntax. Also notice the indentation (white space) after the semicolon, Python uses whitespace to denote blocks, in other languages `{}` are used."
      ]
    },
    {
      "cell_type": "code",
      "execution_count": null,
      "id": "25ac4799",
      "metadata": {
        "id": "25ac4799"
      },
      "outputs": [],
      "source": [
        "# You can also loop over strings and other collections\n"
      ]
    },
    {
      "cell_type": "code",
      "execution_count": null,
      "id": "073f344e",
      "metadata": {
        "id": "073f344e"
      },
      "outputs": [],
      "source": []
    },
    {
      "cell_type": "markdown",
      "id": "6c4ea38a",
      "metadata": {
        "id": "6c4ea38a"
      },
      "source": [
        "Notice the previous block used a sequence, in this case a list we looped over. We use the `in` operator to link them together. More precisely, the list in this case is an *iterator*, a generalized sequence we can loop over.\n",
        "\n",
        "One of the most common used *iterators* is the `range` object, which generates a sequence of numbers\n",
        "\n",
        "Range function:\n",
        "Returns a sequence of numbers in the form `range(start, stop, step)` it can be used in combination with for loops"
      ]
    },
    {
      "cell_type": "code",
      "execution_count": null,
      "id": "dd623921",
      "metadata": {
        "id": "dd623921"
      },
      "outputs": [],
      "source": []
    },
    {
      "cell_type": "code",
      "execution_count": null,
      "id": "a680b133",
      "metadata": {
        "id": "a680b133"
      },
      "outputs": [],
      "source": []
    },
    {
      "cell_type": "code",
      "execution_count": null,
      "id": "a08defef",
      "metadata": {
        "id": "a08defef"
      },
      "outputs": [],
      "source": []
    },
    {
      "cell_type": "markdown",
      "id": "6253eaf8",
      "metadata": {
        "id": "6253eaf8"
      },
      "source": [
        "Range starts at zero by default, and the end of the range is not included. Range can also have other values"
      ]
    },
    {
      "cell_type": "code",
      "execution_count": null,
      "id": "423d4635",
      "metadata": {
        "id": "423d4635"
      },
      "outputs": [],
      "source": [
        "# range from 5 to 10, non inclusive\n"
      ]
    },
    {
      "cell_type": "code",
      "execution_count": null,
      "id": "c87cd13b",
      "metadata": {
        "id": "c87cd13b"
      },
      "outputs": [],
      "source": [
        "# range from 0 to 10 by 5"
      ]
    },
    {
      "cell_type": "markdown",
      "id": "7b45b8d0",
      "metadata": {
        "id": "7b45b8d0"
      },
      "source": [
        "### A quick review of iterators\n",
        "Many times we need to repeate a similar calculation, in an automated fashion. One of Python answers to this is using the `iterator` object. This object contains a sequence, that will output the next value as long as it is valid. This is generally easily understandable with a list."
      ]
    },
    {
      "cell_type": "code",
      "execution_count": null,
      "id": "d9c88ac4",
      "metadata": {
        "id": "d9c88ac4"
      },
      "outputs": [],
      "source": []
    },
    {
      "cell_type": "markdown",
      "id": "8d6de198",
      "metadata": {
        "id": "8d6de198"
      },
      "source": [
        "We can create an `iterator` object from this previous list, and will output the next value with the built in function `next`"
      ]
    },
    {
      "cell_type": "code",
      "execution_count": null,
      "id": "e257258c",
      "metadata": {
        "id": "e257258c"
      },
      "outputs": [],
      "source": [
        "# Iterator object\n"
      ]
    },
    {
      "cell_type": "code",
      "execution_count": null,
      "id": "dfc4ece7",
      "metadata": {
        "id": "dfc4ece7"
      },
      "outputs": [],
      "source": []
    },
    {
      "cell_type": "code",
      "execution_count": null,
      "id": "906400ed",
      "metadata": {
        "id": "906400ed"
      },
      "outputs": [],
      "source": [
        "#print(next(I))"
      ]
    },
    {
      "cell_type": "code",
      "execution_count": null,
      "id": "191b807d",
      "metadata": {
        "id": "191b807d"
      },
      "outputs": [],
      "source": [
        "#print(next(I))"
      ]
    },
    {
      "cell_type": "code",
      "execution_count": null,
      "id": "f130e256",
      "metadata": {
        "id": "f130e256"
      },
      "outputs": [],
      "source": [
        "#print(next(I))"
      ]
    },
    {
      "cell_type": "code",
      "execution_count": null,
      "id": "8b89e972",
      "metadata": {
        "id": "8b89e972"
      },
      "outputs": [],
      "source": [
        "#print(next(I))"
      ]
    },
    {
      "cell_type": "code",
      "execution_count": null,
      "id": "6439e9b3",
      "metadata": {
        "id": "6439e9b3"
      },
      "outputs": [],
      "source": [
        "#print(next(I))"
      ]
    },
    {
      "cell_type": "markdown",
      "id": "f776578a",
      "metadata": {
        "id": "f776578a"
      },
      "source": [
        "With this in mind we can see a indirect relationship with the `list` object and the iterator `object`. Lets see and example with the `range` object again. `range` like a list exposes an iterator, and Python knows to treat it *as if it's a list*."
      ]
    },
    {
      "cell_type": "code",
      "execution_count": null,
      "id": "85cccffe",
      "metadata": {
        "id": "85cccffe"
      },
      "outputs": [],
      "source": []
    },
    {
      "cell_type": "code",
      "execution_count": null,
      "id": "32162e22",
      "metadata": {
        "id": "32162e22"
      },
      "outputs": [],
      "source": []
    },
    {
      "cell_type": "code",
      "execution_count": null,
      "id": "887d3afa",
      "metadata": {
        "id": "887d3afa"
      },
      "outputs": [],
      "source": []
    },
    {
      "cell_type": "markdown",
      "id": "d6ead6ff",
      "metadata": {
        "id": "d6ead6ff"
      },
      "source": [
        "The benefit of having an iterator is the list if never explicitely created. We can see this by doing a range calculation that would otherwise result in an error.\n",
        "\n",
        "If the following code would actually create a list of a trillion values it will use too much memory and our program would crash."
      ]
    },
    {
      "cell_type": "code",
      "execution_count": null,
      "id": "e4a13147",
      "metadata": {
        "id": "e4a13147"
      },
      "outputs": [],
      "source": []
    },
    {
      "cell_type": "markdown",
      "id": "ebbc5d92",
      "metadata": {
        "id": "ebbc5d92"
      },
      "source": [
        "We also have the `count` object, which acts as a infinite range iterator.\n",
        "\n",
        "If this iterator is not stopped it will continue counting up to infinity. That's why we add the `break` statement here."
      ]
    },
    {
      "cell_type": "code",
      "execution_count": null,
      "id": "94dc99c0",
      "metadata": {
        "id": "94dc99c0"
      },
      "outputs": [],
      "source": [
        "# import itertools functionality\n"
      ]
    },
    {
      "cell_type": "markdown",
      "id": "25fb40a6",
      "metadata": {
        "id": "25fb40a6"
      },
      "source": [
        "### The if statement\n",
        "`if <expr>:\n",
        "    <statement>`\n",
        "    \n",
        "- <expr> is evaluated in a Boolean context\n",
        "- <statement> is a valid Python statement and must be indented\n",
        "- Notice the `:`, this is required"
      ]
    },
    {
      "cell_type": "code",
      "execution_count": null,
      "id": "f9e24d81",
      "metadata": {
        "id": "f9e24d81"
      },
      "outputs": [],
      "source": []
    },
    {
      "cell_type": "code",
      "execution_count": null,
      "id": "1e77ae67",
      "metadata": {
        "id": "1e77ae67"
      },
      "outputs": [],
      "source": []
    },
    {
      "cell_type": "code",
      "execution_count": null,
      "id": "dcba6d46",
      "metadata": {
        "id": "dcba6d46"
      },
      "outputs": [],
      "source": []
    },
    {
      "cell_type": "code",
      "execution_count": null,
      "id": "b27629d9",
      "metadata": {
        "id": "b27629d9"
      },
      "outputs": [],
      "source": []
    },
    {
      "cell_type": "code",
      "execution_count": null,
      "id": "6bb45218",
      "metadata": {
        "id": "6bb45218"
      },
      "outputs": [],
      "source": []
    },
    {
      "cell_type": "code",
      "execution_count": null,
      "id": "a2c3f88f",
      "metadata": {
        "id": "a2c3f88f"
      },
      "outputs": [],
      "source": [
        "# We can also nest if statements, remember indentations\n"
      ]
    },
    {
      "cell_type": "code",
      "execution_count": null,
      "id": "879f1d9c",
      "metadata": {
        "id": "879f1d9c"
      },
      "outputs": [],
      "source": [
        "# What if x is not less than y?\n",
        "# this will still run, as it is outside the if statement"
      ]
    },
    {
      "cell_type": "markdown",
      "id": "99ee3f21",
      "metadata": {
        "id": "99ee3f21"
      },
      "source": [
        "Nested for loops are also possible"
      ]
    },
    {
      "cell_type": "code",
      "execution_count": null,
      "id": "12fb3c76",
      "metadata": {
        "id": "12fb3c76"
      },
      "outputs": [],
      "source": []
    },
    {
      "cell_type": "markdown",
      "id": "1c0dfb7e",
      "metadata": {
        "id": "1c0dfb7e"
      },
      "source": [
        "### Optional Exercises\n",
        "\n",
        "1. Create a for loop that prints numbers from 1 to 20 in increments of 2 e.g. 2, 4, 6, 8, ...\n",
        "\n",
        "2. Create a for loop that prints from a list of words in a list. Create a second nested for loop that prints another word from a second list. Every word should from the first list shall be printed with every other word from the second list.\n",
        "\n",
        "`list_a = [\"chicken\", \"veggie\", \"meat\", \"ham\", \"cheese\", \"beef\", \"chocolate\"]`\n",
        "\n",
        "`list_b = [\"sandwich\", \"waffles\", \"pizza\", \"burrito\", \"soup\", \"salad\", \"smoothie\"]`\n",
        "\n",
        "Tip: You may want to use `range(len(list_a))` to iterate over the length of the list.\n",
        "\n",
        "Example output for exercise 2:\n",
        "\n",
        "`chicken sandwich\n",
        "chicken waffles\n",
        "chicken pizza\n",
        "chicken burrito...`\n",
        "\n",
        "`veggie sandwich\n",
        "veggie waffles\n",
        "veggie pizza\n",
        "veggie burrito...`"
      ]
    },
    {
      "cell_type": "markdown",
      "id": "6bed564d",
      "metadata": {
        "id": "6bed564d"
      },
      "source": [
        "### Combining for and if statments\n",
        "- We can combine for loops and if statements to do different things when conditions are met.\n",
        "- In a for loop the `break` statement will stop the loop\n",
        "- In a for loop the `continue` statement will skip the element"
      ]
    },
    {
      "cell_type": "code",
      "execution_count": null,
      "id": "b26fb2db",
      "metadata": {
        "id": "b26fb2db"
      },
      "outputs": [],
      "source": []
    },
    {
      "cell_type": "code",
      "execution_count": null,
      "id": "e7df5860",
      "metadata": {
        "id": "e7df5860"
      },
      "outputs": [],
      "source": []
    },
    {
      "cell_type": "code",
      "execution_count": null,
      "id": "35517fcc",
      "metadata": {
        "id": "35517fcc"
      },
      "outputs": [],
      "source": [
        "# Break the loop if condition is met\n"
      ]
    },
    {
      "cell_type": "code",
      "execution_count": null,
      "id": "b76ff230",
      "metadata": {
        "id": "b76ff230"
      },
      "outputs": [],
      "source": [
        "# Skip if condition is met\n"
      ]
    },
    {
      "cell_type": "markdown",
      "id": "c6970a8d",
      "metadata": {
        "id": "c6970a8d"
      },
      "source": [
        "Else and elif clauses\n",
        "Sometimes you want to take a different path or do something different if other conditions are met. This is accomplished with an `else` clause.\n",
        "\n",
        "Branching executions can be accomplished by `elif` short for else if, will evaluate an expression and execute if True."
      ]
    },
    {
      "cell_type": "code",
      "execution_count": null,
      "id": "17477af6",
      "metadata": {
        "id": "17477af6"
      },
      "outputs": [],
      "source": []
    },
    {
      "cell_type": "markdown",
      "id": "85220a7a",
      "metadata": {
        "id": "85220a7a"
      },
      "source": [
        "## Optional exercise\n",
        "Write a program that takes two integer numbers and determines if the numbers are odd or even. Remember the `input()` and `%` function and operator.\n",
        "\n",
        "Additional exercise: do the same computation as above, but for a list of numbers using a `for` loop and `if` statements."
      ]
    },
    {
      "cell_type": "markdown",
      "id": "aee7968e",
      "metadata": {
        "id": "aee7968e"
      },
      "source": [
        "### Conditional expressions (ternary operator)\n",
        "This is different from the if statement forms listed above because it is not a control structure that directs the flow of program execution. It acts more like an operator that defines an expression. In the above example, <conditional_expr> is evaluated first. If it is true, the expression evaluates to <expr1>. If it is false, the expression evaluates to <expr2>.\n",
        "    \n",
        "- \\<conditional_expr> ? \\<expr1> : \\<expr2>"
      ]
    },
    {
      "cell_type": "code",
      "execution_count": null,
      "id": "22237e46",
      "metadata": {
        "id": "22237e46"
      },
      "outputs": [],
      "source": [
        "#rain = True\n",
        "#print('Lets ', 'go outside' if not rain else 'stay')"
      ]
    },
    {
      "cell_type": "code",
      "execution_count": null,
      "id": "9b170387",
      "metadata": {
        "id": "9b170387"
      },
      "outputs": [],
      "source": [
        "#name = 'Bob'\n",
        "#who = 'Bob' if name == 'Bob' else 'Not Bob'\n",
        "#who"
      ]
    },
    {
      "cell_type": "code",
      "execution_count": null,
      "id": "5a676237",
      "metadata": {
        "id": "5a676237"
      },
      "outputs": [],
      "source": [
        "#name = 'Jane'\n",
        "#who = 'Bob' if name == 'Bob' else 'Not Bob'\n",
        "#who"
      ]
    },
    {
      "cell_type": "markdown",
      "id": "8536faa9",
      "metadata": {
        "id": "8536faa9"
      },
      "source": [
        "## While loops\n",
        "while \\<expr>:\n",
        "\n",
        "    <statement(s)>\n",
        "        \n",
        "<statement(s)> represents the block to be repeatedly executed, often referred to as the body of the loop. This is denoted with indentation, just as in an if statement.\n",
        "\n",
        "The controlling expression, <expr>, typically involves one or more variables that are initialized prior to starting the loop and then modified somewhere in the loop body.\n",
        "    \n",
        "While loops can also use `break` and `continue` statements. You can also use `else` statements once the condition is no longer true"
      ]
    },
    {
      "cell_type": "code",
      "execution_count": null,
      "id": "2a3797d0",
      "metadata": {
        "id": "2a3797d0"
      },
      "outputs": [],
      "source": []
    },
    {
      "cell_type": "code",
      "execution_count": null,
      "id": "edf20339",
      "metadata": {
        "id": "edf20339"
      },
      "outputs": [],
      "source": []
    },
    {
      "cell_type": "markdown",
      "id": "3b4a7594",
      "metadata": {
        "id": "3b4a7594"
      },
      "source": [
        "## Exercises for participation credit\n",
        "Please complete the following exercises and upload your completed notebook to your Github repository for participation credit.\n",
        "\n",
        "1. Write a for loop that adds all numbers from 1 to 100\n",
        "2. Using the list `lst1=[\"Joe\", \"Sarah\", \"Mike\", \"Jess\", \"\", \"Matt\", \"\", \"Greg\"]` create a second list called `lst2`, iterate through the list and add the names to `lst2` only if the element is different to an empty string.\n",
        "3. Take 3 numbers from the user using `input()` save the numbers to a list. Take 3 more numbers from the user and save it to a second list. Iterate over both lists and multiply every number on the first list over every other number on the second list. Print the multiplication result only if the result is an even number, else print the words `The result is odd`."
      ]
    },
    {
      "cell_type": "code",
      "execution_count": null,
      "id": "63de2ad5",
      "metadata": {
        "id": "63de2ad5"
      },
      "outputs": [],
      "source": []
    }
  ],
  "metadata": {
    "kernelspec": {
      "display_name": "Python 3 (ipykernel)",
      "language": "python",
      "name": "python3"
    },
    "language_info": {
      "codemirror_mode": {
        "name": "ipython",
        "version": 3
      },
      "file_extension": ".py",
      "mimetype": "text/x-python",
      "name": "python",
      "nbconvert_exporter": "python",
      "pygments_lexer": "ipython3",
      "version": "3.10.4"
    },
    "colab": {
      "provenance": [],
      "include_colab_link": true
    }
  },
  "nbformat": 4,
  "nbformat_minor": 5
}